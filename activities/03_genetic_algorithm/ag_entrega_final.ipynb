{
  "nbformat": 4,
  "nbformat_minor": 0,
  "metadata": {
    "colab": {
      "provenance": []
    },
    "kernelspec": {
      "name": "python3",
      "display_name": "Python 3"
    },
    "language_info": {
      "name": "python"
    }
  },
  "cells": [
    {
      "cell_type": "markdown",
      "source": [
        "### JULIO CESAR GARCIA RIBEIRO\n",
        "### MATHEUS FELIPE MILESKI LOPES\n",
        "### FELIPE GALVAO GREGORIO"
      ],
      "metadata": {
        "id": "mf7xj9K6xOXG"
      }
    },
    {
      "cell_type": "code",
      "source": [
        "%reset"
      ],
      "metadata": {
        "colab": {
          "base_uri": "https://localhost:8080/"
        },
        "id": "-xUeXMi8YqUa",
        "outputId": "493aab9b-aa51-455e-e755-5ae02c528a94"
      },
      "execution_count": null,
      "outputs": [
        {
          "name": "stdout",
          "output_type": "stream",
          "text": [
            "Once deleted, variables cannot be recovered. Proceed (y/[n])? y\n"
          ]
        }
      ]
    },
    {
      "cell_type": "code",
      "execution_count": null,
      "metadata": {
        "id": "DG_SzRX-eR5f"
      },
      "outputs": [],
      "source": [
        "import math, random\n",
        "import matplotlib.pyplot as plt\n",
        "import pandas as pd\n",
        "import numpy  as np\n",
        "import copy\n",
        "import os"
      ]
    },
    {
      "cell_type": "markdown",
      "source": [
        "## Introdução\n",
        "A agência espacial Europeia European Space Agency - ESA tem um programa chamado GAIA, cuja maior missão é criar o maior e mais preciso mapa tridimensional da nossa galaxia.\n",
        "\n",
        "A universidade do Canadá, Waterloo utilizou os dados coletados pela ESA para criar 12 instâncias do problema do Caixeiro viajante (Travelling Salesman Problem - TSP) . As instâncias dos problemas vão de 100 até 1,33 bilhão de estrelas possíveis de serem visitadas em um ambiente tridimensional. \n",
        "\n",
        "Neste artigo, vamos analisar o problema para 100 estrelas. Para resolução do problema foram desenvolvidos 3 algoritmos diferentes o Busca Gulosa, Algoritmo Genético e GRASP (Greedy Randomized Adaptive Search Procedures). Busca Gulosa é um algoritmo de busca pela melhor escolha que utiliza uma heurística para avaliar sua busca. Algoritmo Genético é um algoritmo inspirados nos modelos de evolução de especies desenvolvidos por Charles Darwin (1859) e por Gregor Mendel (1865), a ideia é simular os conceito da biologia (aptidão, cromossomos, gene, locus, alelos, indivíduos) no algoritmo. GRASP é uma metaheurística constituída por heurísticas construtivas e busca local. Consiste de múltiplas aplicações de busca local, cada uma iniciando de uma solução diferente.\n"
      ],
      "metadata": {
        "id": "AQWQCGPVVipA"
      }
    },
    {
      "cell_type": "markdown",
      "source": [
        "## Objetivos\n",
        "Esse projeto tem o objetivo de solucionar o problema do caixeiro viajante-TSP aplicando em um exemplo de uma amostra de 100 estrelas."
      ],
      "metadata": {
        "id": "upuz2Rd9nRxh"
      }
    },
    {
      "cell_type": "markdown",
      "source": [
        "## Metodologia\n",
        "\n",
        "Este trabalho se baseou em comparar métodos para encontrar a distância ótima em um problema exponencial do caixeiro viajante. Neste caso, as \"cidades\" em que o cacheiro precisa passar na realidade são estrelas. Como a amostra possui 100 estrelas o problema então tem um total de 100! possíveis soluções\n",
        "\n",
        "O dataset utilizado contem as 100 estrelas mais próximas do Sol, e o objetivo é encontrar a rota mais curta para percorrer todas as 100 estrelas passando apenas uma vez por cada uma.\n",
        "\n",
        "O dataset utilizado neste trabalho pode ser encontrado [aqui](https://www.math.uwaterloo.ca/tsp/star/star100.html). Este dataset foi desenvolvido pela Universidade de Uwaterloo, e contem as coordenadas tridimensionais das 100 estrelas mais próximas do Sol.\n",
        "\n",
        "Os métodos utilizados para tentar encontrar a rota ótima foram: algoritmo guloso, algoritmo genético e algoritmo GRASP."
      ],
      "metadata": {
        "id": "-AG986k2VnY_"
      }
    },
    {
      "cell_type": "markdown",
      "source": [
        "### Adquirindo os dados\n",
        "\n",
        "Para adquirir os dados do dataset, se utilizou a biblioteca Pandas, coletando o arquivo de texto disponível [neste link](https://www.math.uwaterloo.ca/tsp/star/data/star100.xyz.txt). O arquivo de texto possui as coordenadas separadas por espaços, e cada linha representa uma estrela do dataset."
      ],
      "metadata": {
        "id": "ymw91_WaWGzw"
      }
    },
    {
      "cell_type": "code",
      "source": [
        "stars_df = pd.read_csv(\"https://www.math.uwaterloo.ca/tsp/star/data/star100.xyz.txt\", sep = \" \", header = None, names = [\"x\", \"y\", \"z\"])\n",
        "stars_df"
      ],
      "metadata": {
        "colab": {
          "base_uri": "https://localhost:8080/",
          "height": 424
        },
        "id": "KhdFUoKaWI63",
        "outputId": "246c480b-0b39-4fd8-f460-fc85cbd3eeae"
      },
      "execution_count": null,
      "outputs": [
        {
          "output_type": "execute_result",
          "data": {
            "text/plain": [
              "           x         y         z\n",
              "0    0.00000   0.00000   0.00000\n",
              "1   -4.95181  -4.13973 -11.56674\n",
              "2   -4.95203  -4.14084 -11.56625\n",
              "3   -4.72264  -3.61451 -11.51219\n",
              "4   -0.17373 -18.16613   1.49123\n",
              "..       ...       ...       ...\n",
              "95  55.38462  44.88223   8.61013\n",
              "96 -11.76301 -52.54468  51.42212\n",
              "97  16.35267   1.84517 -72.75205\n",
              "98  51.09768  44.51981  32.35931\n",
              "99  72.58368  15.55495   6.86093\n",
              "\n",
              "[100 rows x 3 columns]"
            ],
            "text/html": [
              "\n",
              "  <div id=\"df-06e5e5b9-bd7d-49ac-a067-baab55cbd20d\">\n",
              "    <div class=\"colab-df-container\">\n",
              "      <div>\n",
              "<style scoped>\n",
              "    .dataframe tbody tr th:only-of-type {\n",
              "        vertical-align: middle;\n",
              "    }\n",
              "\n",
              "    .dataframe tbody tr th {\n",
              "        vertical-align: top;\n",
              "    }\n",
              "\n",
              "    .dataframe thead th {\n",
              "        text-align: right;\n",
              "    }\n",
              "</style>\n",
              "<table border=\"1\" class=\"dataframe\">\n",
              "  <thead>\n",
              "    <tr style=\"text-align: right;\">\n",
              "      <th></th>\n",
              "      <th>x</th>\n",
              "      <th>y</th>\n",
              "      <th>z</th>\n",
              "    </tr>\n",
              "  </thead>\n",
              "  <tbody>\n",
              "    <tr>\n",
              "      <th>0</th>\n",
              "      <td>0.00000</td>\n",
              "      <td>0.00000</td>\n",
              "      <td>0.00000</td>\n",
              "    </tr>\n",
              "    <tr>\n",
              "      <th>1</th>\n",
              "      <td>-4.95181</td>\n",
              "      <td>-4.13973</td>\n",
              "      <td>-11.56674</td>\n",
              "    </tr>\n",
              "    <tr>\n",
              "      <th>2</th>\n",
              "      <td>-4.95203</td>\n",
              "      <td>-4.14084</td>\n",
              "      <td>-11.56625</td>\n",
              "    </tr>\n",
              "    <tr>\n",
              "      <th>3</th>\n",
              "      <td>-4.72264</td>\n",
              "      <td>-3.61451</td>\n",
              "      <td>-11.51219</td>\n",
              "    </tr>\n",
              "    <tr>\n",
              "      <th>4</th>\n",
              "      <td>-0.17373</td>\n",
              "      <td>-18.16613</td>\n",
              "      <td>1.49123</td>\n",
              "    </tr>\n",
              "    <tr>\n",
              "      <th>...</th>\n",
              "      <td>...</td>\n",
              "      <td>...</td>\n",
              "      <td>...</td>\n",
              "    </tr>\n",
              "    <tr>\n",
              "      <th>95</th>\n",
              "      <td>55.38462</td>\n",
              "      <td>44.88223</td>\n",
              "      <td>8.61013</td>\n",
              "    </tr>\n",
              "    <tr>\n",
              "      <th>96</th>\n",
              "      <td>-11.76301</td>\n",
              "      <td>-52.54468</td>\n",
              "      <td>51.42212</td>\n",
              "    </tr>\n",
              "    <tr>\n",
              "      <th>97</th>\n",
              "      <td>16.35267</td>\n",
              "      <td>1.84517</td>\n",
              "      <td>-72.75205</td>\n",
              "    </tr>\n",
              "    <tr>\n",
              "      <th>98</th>\n",
              "      <td>51.09768</td>\n",
              "      <td>44.51981</td>\n",
              "      <td>32.35931</td>\n",
              "    </tr>\n",
              "    <tr>\n",
              "      <th>99</th>\n",
              "      <td>72.58368</td>\n",
              "      <td>15.55495</td>\n",
              "      <td>6.86093</td>\n",
              "    </tr>\n",
              "  </tbody>\n",
              "</table>\n",
              "<p>100 rows × 3 columns</p>\n",
              "</div>\n",
              "      <button class=\"colab-df-convert\" onclick=\"convertToInteractive('df-06e5e5b9-bd7d-49ac-a067-baab55cbd20d')\"\n",
              "              title=\"Convert this dataframe to an interactive table.\"\n",
              "              style=\"display:none;\">\n",
              "        \n",
              "  <svg xmlns=\"http://www.w3.org/2000/svg\" height=\"24px\"viewBox=\"0 0 24 24\"\n",
              "       width=\"24px\">\n",
              "    <path d=\"M0 0h24v24H0V0z\" fill=\"none\"/>\n",
              "    <path d=\"M18.56 5.44l.94 2.06.94-2.06 2.06-.94-2.06-.94-.94-2.06-.94 2.06-2.06.94zm-11 1L8.5 8.5l.94-2.06 2.06-.94-2.06-.94L8.5 2.5l-.94 2.06-2.06.94zm10 10l.94 2.06.94-2.06 2.06-.94-2.06-.94-.94-2.06-.94 2.06-2.06.94z\"/><path d=\"M17.41 7.96l-1.37-1.37c-.4-.4-.92-.59-1.43-.59-.52 0-1.04.2-1.43.59L10.3 9.45l-7.72 7.72c-.78.78-.78 2.05 0 2.83L4 21.41c.39.39.9.59 1.41.59.51 0 1.02-.2 1.41-.59l7.78-7.78 2.81-2.81c.8-.78.8-2.07 0-2.86zM5.41 20L4 18.59l7.72-7.72 1.47 1.35L5.41 20z\"/>\n",
              "  </svg>\n",
              "      </button>\n",
              "      \n",
              "  <style>\n",
              "    .colab-df-container {\n",
              "      display:flex;\n",
              "      flex-wrap:wrap;\n",
              "      gap: 12px;\n",
              "    }\n",
              "\n",
              "    .colab-df-convert {\n",
              "      background-color: #E8F0FE;\n",
              "      border: none;\n",
              "      border-radius: 50%;\n",
              "      cursor: pointer;\n",
              "      display: none;\n",
              "      fill: #1967D2;\n",
              "      height: 32px;\n",
              "      padding: 0 0 0 0;\n",
              "      width: 32px;\n",
              "    }\n",
              "\n",
              "    .colab-df-convert:hover {\n",
              "      background-color: #E2EBFA;\n",
              "      box-shadow: 0px 1px 2px rgba(60, 64, 67, 0.3), 0px 1px 3px 1px rgba(60, 64, 67, 0.15);\n",
              "      fill: #174EA6;\n",
              "    }\n",
              "\n",
              "    [theme=dark] .colab-df-convert {\n",
              "      background-color: #3B4455;\n",
              "      fill: #D2E3FC;\n",
              "    }\n",
              "\n",
              "    [theme=dark] .colab-df-convert:hover {\n",
              "      background-color: #434B5C;\n",
              "      box-shadow: 0px 1px 3px 1px rgba(0, 0, 0, 0.15);\n",
              "      filter: drop-shadow(0px 1px 2px rgba(0, 0, 0, 0.3));\n",
              "      fill: #FFFFFF;\n",
              "    }\n",
              "  </style>\n",
              "\n",
              "      <script>\n",
              "        const buttonEl =\n",
              "          document.querySelector('#df-06e5e5b9-bd7d-49ac-a067-baab55cbd20d button.colab-df-convert');\n",
              "        buttonEl.style.display =\n",
              "          google.colab.kernel.accessAllowed ? 'block' : 'none';\n",
              "\n",
              "        async function convertToInteractive(key) {\n",
              "          const element = document.querySelector('#df-06e5e5b9-bd7d-49ac-a067-baab55cbd20d');\n",
              "          const dataTable =\n",
              "            await google.colab.kernel.invokeFunction('convertToInteractive',\n",
              "                                                     [key], {});\n",
              "          if (!dataTable) return;\n",
              "\n",
              "          const docLinkHtml = 'Like what you see? Visit the ' +\n",
              "            '<a target=\"_blank\" href=https://colab.research.google.com/notebooks/data_table.ipynb>data table notebook</a>'\n",
              "            + ' to learn more about interactive tables.';\n",
              "          element.innerHTML = '';\n",
              "          dataTable['output_type'] = 'display_data';\n",
              "          await google.colab.output.renderOutput(dataTable, element);\n",
              "          const docLink = document.createElement('div');\n",
              "          docLink.innerHTML = docLinkHtml;\n",
              "          element.appendChild(docLink);\n",
              "        }\n",
              "      </script>\n",
              "    </div>\n",
              "  </div>\n",
              "  "
            ]
          },
          "metadata": {},
          "execution_count": 57
        }
      ]
    },
    {
      "cell_type": "markdown",
      "source": [
        "### Algoritmo guloso\n",
        "\n",
        "O algoritmo guloso foi desenvolvido para que sempre escolhesse a estrela mais próxima da estrela atual. Saindo do sol, o algoritmo encontra a estrela mais próxima para visitar e remove o Sol do dataset. Este processo é repetido até que as estrelas do dataset se esgotem."
      ],
      "metadata": {
        "id": "MkqbEDSfeax9"
      }
    },
    {
      "cell_type": "code",
      "source": [
        "def calculate_distance(c1, c2):\n",
        "  return math.sqrt(\n",
        "    (c2[0] - c1[0])**2 + \n",
        "    (c2[1] - c1[1])**2 + \n",
        "    (c2[2] - c1[2])**2\n",
        "  )\n",
        "\n",
        "\n",
        "def get_nearest_star(current_star, star_df):\n",
        "  coordinates = star_df.loc[current_star, :].values.tolist()\n",
        "  star_df.drop(current_star, inplace=True)\n",
        "  \n",
        "  distances = []\n",
        "  for index, star in star_df.iterrows():\n",
        "    distances.append((index, calculate_distance(coordinates, star)))\n",
        "  \n",
        "  return sorted(distances, key=lambda tup: tup[1])[0]\n",
        "\n",
        "\n",
        "def tsp_greedy(stars_df):\n",
        "  tuor = [0]\n",
        "  distance = 0\n",
        "\n",
        "  next_star = get_nearest_star(tuor[-1], stars_df)\n",
        "  tuor.append(next_star[0])\n",
        "  distance += next_star[1]\n",
        "\n",
        "  while(len(stars_df.index) > 1):\n",
        "    next_star = get_nearest_star(tuor[-1], stars_df)\n",
        "    tuor.append(next_star[0])\n",
        "    distance += next_star[1]\n",
        "  \n",
        "  return (distance, tuor)"
      ],
      "metadata": {
        "id": "vguCHF8UeeU0"
      },
      "execution_count": null,
      "outputs": []
    },
    {
      "cell_type": "markdown",
      "source": [
        "### Algoritmo genético\n",
        "\n",
        "O algoritmo genético, a cada iteração (geração), tente a encontrar melhores resultados. Este algoritmo gera rotas aleatórias, sempre saindo do Sol e percorrendo todas as estrelas sem repetições, e gera novas rotas baseadas nas melhores rotas da geração passada.\n",
        "\n",
        "Para isso, o algoritmo precisa escolher quais rotas serão utilizadas para gerar as novas rotas na nova geração. A função escolhida para isso foi o torneio, onde o algoritmo seleciona n rotas aleatórias da geração atual e escolhe a melhor rota (com menor distância) das rotas selecionadas para o torneio.\n",
        "\n",
        "Para gerar as novas rotas, os pais escolhidos no torneio são recombinados utilizado o processo de crossover. Neste processo, são gerados dois filhos combinando os genes (estrelas) dos dois pais, sempre mantendo a primeira estrela da rota como sendo o Sol.\n",
        "\n",
        "Por fim, foi implementado um processo para incluir mutação nas novas rotas. Esse processo utiliza uma taxa de mutação para trocar a posição dos genes. Para cada filho, é seleciona uma posição, partindo da segunda, até chegar ao meio da rota. Se um valor aleatório for superior à taxa de mutação, é realizada a troca de posição pelo elemento espelhado do outro lado da rota.\n",
        "\n",
        "Os filhos gerados substituem as piores rodas da geração anterior, fazendo com que as melhores rotas da geração atual sejam mantidas na próxima geração.\n",
        "\n",
        "Existem 5 parâmetros que podem ser alterados para modificar a performance do algoritmo: GENERATIONS: o número de gerações que será considerado (critério de parada do algoritmo); POPULATION_SIZE: tamanho da população que será gerada (quantas rotas em cada geração); TOURNAMENT_SIZE: quantidade de rotas que serão escolhidas aleatoriamente da população para o torneio; NUM_CHILDREN: quantidade de filhos que serão produzidos em cada nova geração; MUTATION_RATE: taxa de mutação (quanto maior mais aleatória serão as rodas filhas de cada geração)."
      ],
      "metadata": {
        "id": "d0kukgAXef-Q"
      }
    },
    {
      "cell_type": "code",
      "source": [
        "GENERATIONS = 5000\n",
        "POPULATION_SIZE = 50\n",
        "TOURNAMENT_SIZE = 5\n",
        "NUM_CHILDREN = 40\n",
        "MUTATION_RATE = 0.05\n",
        "\n",
        "\n",
        "def create_route(stars_df):\n",
        "    return [0] + list(random.sample(range(1, len(stars_df.index)), 99))\n",
        "\n",
        "\n",
        "def initial_population(stars_df):\n",
        "    population = []\n",
        "    for i in range(0, POPULATION_SIZE):\n",
        "        population.append(create_route(stars_df))\n",
        "    return population\n",
        "\n",
        "\n",
        "def distance(star1, star2):\n",
        "    return math.sqrt(\n",
        "        ((star1[0] - star2[0]) ** 2) + \n",
        "        ((star1[1] - star2[1]) ** 2) + \n",
        "        ((star1[2] - star2[2])) ** 2\n",
        "    )\n",
        "\n",
        "\n",
        "def route_distance(route, stars_df):\n",
        "    route_distace = 0\n",
        "    for i in range(0, len(route)-1):\n",
        "        star1 = stars_df.loc[route[i], :].values.tolist()\n",
        "        star2 = stars_df.loc[route[i+1], :].values.tolist()\n",
        "        route_distace += distance(star1, star2)\n",
        "    return route_distace\n",
        "\n",
        "\n",
        "def population_fitness(population, stars_df):\n",
        "    fitness = []\n",
        "    for route in population:\n",
        "        distance = route_distance(route, stars_df)\n",
        "        fitness.append((route, distance, 1/distance))\n",
        "    return sorted(fitness, key = lambda tup: tup[1])\n",
        "\n",
        "\n",
        "def crossover(parent_1, parent_2):\n",
        "    child_1 = [parent_1[0]] + [-1 for i in range(1, len(parent_1))]\n",
        "    child_2 = [parent_2[0]] + [-1 for i in range(1, len(parent_1))]\n",
        "    \n",
        "    delimiters = sorted(random.sample(range(1, len(parent_1)), 2))\n",
        "    \n",
        "    for i in range(delimiters[0], delimiters[1]+1):\n",
        "        child_1[i] = parent_1[i]\n",
        "        child_2[i] = parent_2[i]\n",
        "\n",
        "    parent_2_index = 0\n",
        "    for child_1_index, child_1_cromossome in enumerate(child_1):\n",
        "        if child_1_cromossome == -1:\n",
        "            while parent_2[parent_2_index] in child_1:\n",
        "                parent_2_index += 1\n",
        "            child_1[child_1_index] = parent_2[parent_2_index]\n",
        "    \n",
        "    parent_1_index = 0\n",
        "    for child_2_index, child_2_cromossome in enumerate(child_2):\n",
        "        if child_2_cromossome == -1:\n",
        "            while parent_1[parent_1_index] in child_2:\n",
        "                parent_1_index += 1\n",
        "            child_2[child_2_index] = parent_1[parent_1_index]\n",
        "\n",
        "    return [child_1, child_2]\n",
        "\n",
        "\n",
        "def breed_population(fitness):\n",
        "    children = []\n",
        "    for i in range(0, int(NUM_CHILDREN/2)):\n",
        "        parents = []\n",
        "        for j in range(0, 2):\n",
        "            tournament = random.sample(fitness, TOURNAMENT_SIZE)\n",
        "            parents.append(sorted(tournament, key = lambda tup: tup[2], reverse = True)[0][0])\n",
        "        children.extend(crossover(parents[0], parents[1]))\n",
        "    return children\n",
        "\n",
        "\n",
        "def mutate(child):\n",
        "    mutated_child = child\n",
        "    for i in range(1, len(mutated_child)):\n",
        "        if random.random() < MUTATION_RATE:\n",
        "            aux = mutated_child[i]\n",
        "            mutated_child[i] = mutated_child[len(mutated_child)-1-i]\n",
        "            mutated_child[len(mutated_child)-1-i] = aux\n",
        "    return mutated_child\n",
        "\n",
        "\n",
        "def mutate_population(children):\n",
        "    mutated_population = []\n",
        "    for child in children:\n",
        "        mutated_population.append(mutate(child))\n",
        "    return mutated_population\n",
        "\n",
        "\n",
        "def merge_children(fitness, mutated_children):\n",
        "    new_population = []\n",
        "    for i in range(0, len(fitness) - len(mutated_children)):\n",
        "        new_population.append(fitness[i][0])\n",
        "    return new_population + mutated_children\n",
        "\n",
        "\n",
        "def next_generation(population, stars_df):\n",
        "    fitness = population_fitness(population, stars_df)\n",
        "    best_previous_gen_route = (fitness[0][0], fitness[0][1])\n",
        "    children = breed_population(fitness)\n",
        "    mutated_children = mutate_population(children)\n",
        "    new_generation = merge_children(fitness, mutated_children)\n",
        "    return (new_generation, best_previous_gen_route)\n",
        "\n",
        "\n",
        "def genetic_tsp(stars_df):\n",
        "    best_routes = []\n",
        "    best_routes_distances = []\n",
        "    for i in range(0, GENERATIONS+1):\n",
        "        if i == 0:\n",
        "            population = initial_population(stars_df)\n",
        "        else:\n",
        "            population, best_previous_gen_route = next_generation(population, stars_df)\n",
        "            best_routes.append(best_previous_gen_route[0])\n",
        "            best_routes_distances.append(best_previous_gen_route[1])\n",
        "            # print(f\"Generation {i}: Best route distance = {best_routes_distances[-1]}\")\n",
        "    \n",
        "    plt.plot(best_routes_distances)\n",
        "    plt.ylabel('Distance')\n",
        "    plt.xlabel('Generation')\n",
        "    plt.show()\n",
        "\n",
        "    return (min(best_routes_distances), best_routes[best_routes_distances.index(min(best_routes_distances))])"
      ],
      "metadata": {
        "id": "CIWJxAgwei7f"
      },
      "execution_count": null,
      "outputs": []
    },
    {
      "cell_type": "markdown",
      "source": [
        "### Algoritmo GRASP (Greedy Randomized Adaptive Search Procedure)\n",
        "\n",
        "O GRASP é um algoritmo de otimização combinatória que consiste em criar uma solução inicial aleatória (seed) e depois efetuar uma busca local para melhorar a solução."
      ],
      "metadata": {
        "id": "gFRfC0NcmG5t"
      }
    },
    {
      "cell_type": "code",
      "source": [
        "# Function: Tour Distance\n",
        "def distance_calc(Xdata, star_tour):\n",
        "    distance = 0\n",
        "    for k in range(0, len(star_tour[0])-1):\n",
        "        distance += Xdata[star_tour[0][k]-1, star_tour[0][k+1]-1]\n",
        "    return distance\n",
        "\n",
        "# Function: Euclidean Distance \n",
        "def euclidean_distance(x, y, z):       \n",
        "    distance = 0\n",
        "    for j in range(0, len(x)):\n",
        "        distance += (x[j] - y[j])**2\n",
        "    return distance**(1/2) \n",
        "\n",
        "# Function: Initial Seed\n",
        "def seed_function(Xdata):\n",
        "    seed = [[],float(\"inf\")]\n",
        "    sequence = []\n",
        "    sequence = random.sample(list(range(2,Xdata.shape[0]+1)), Xdata.shape[0]-1)\n",
        "    sequence.insert(0,1)\n",
        "    sequence.append(1)\n",
        "    seed[0] = sequence\n",
        "    seed[1] = distance_calc(Xdata, seed)\n",
        "    return seed\n",
        "\n",
        "# Function: Build Distance Matrix\n",
        "def build_distance_matrix(coordinates):\n",
        "   a = coordinates\n",
        "   b = a.reshape(np.prod(a.shape[:-1]), 1, a.shape[-1])\n",
        "   return np.sqrt(np.einsum('ijk,ijk->ij',  b - a,  b - a)).squeeze()\n",
        "\n",
        "# Function: Tour Plot\n",
        "def plot_tour_distance_matrix (Xdata, star_tour):\n",
        "    m = np.copy(Xdata)\n",
        "    for i in range(0, Xdata.shape[0]):\n",
        "        for j in range(0, Xdata.shape[1]):\n",
        "            m[i,j] = (1/2)*(Xdata[0,j]**2 + Xdata[i,0]**2 - Xdata[i,j]**2)    \n",
        "    w, u = np.linalg.eig(np.matmul(m.T, m))\n",
        "    s = (np.diag(np.sort(w)[::-1]))**(1/2) \n",
        "    coordinates = np.matmul(u, s**(1/2))\n",
        "    coordinates = coordinates.real[:,0:2]\n",
        "    xyz = np.zeros((len(star_tour[0]), 3))\n",
        "    print(xyz)\n",
        "    for i in range(0, len(star_tour[0])):\n",
        "        if (i < len(star_tour[0])):\n",
        "            xyz[i, 0] = coordinates[star_tour[0][i]-1, 0]\n",
        "            xyz[i, 1] = coordinates[star_tour[0][i]-1, 1]\n",
        "            xyz[i, 2] = coordinates[star_tour[0][i]-1, 2]\n",
        "        else:\n",
        "            xyz[i, 0] = coordinates[star_tour[0][0]-1, 0]\n",
        "            xyz[i, 1] = coordinates[star_tour[0][0]-1, 1]\n",
        "            xyz[i, 2] = coordinates[star_tour[0][0]-1, 2]\n",
        "    plt.plot(xyz[:,0], xyz[:,1], xyz[:,2], marker = 's', alpha = 1, markersize = 7, color = 'black')\n",
        "    plt.plot(xyz[0,0], xyz[0,1], xyz[0,2], marker = 's', alpha = 1, markersize = 7, color = 'red')\n",
        "    plt.plot(xyz[1,0], xyz[1,1], xyz[1,2], marker = 's', alpha = 1, markersize = 7, color = 'orange')\n",
        "    return\n",
        "\n",
        "# Function: Tour Plot\n",
        "def plot_tour_coordinates (coordinates, star_tour):\n",
        "    xyz = np.zeros((len(star_tour[0]), 3))\n",
        "    for i in range(0, len(star_tour[0])):\n",
        "        if (i < len(star_tour[0])):\n",
        "            xyz[i, 0] = coordinates[star_tour[0][i]-1, 0]\n",
        "            xyz[i, 1] = coordinates[star_tour[0][i]-1, 1]\n",
        "            xyz[i, 2] = coordinates[star_tour[0][i]-1, 2]\n",
        "        else:\n",
        "            xyz[i, 0] = coordinates[star_tour[0][0]-1, 0]\n",
        "            xyz[i, 1] = coordinates[star_tour[0][0]-1, 1]\n",
        "            xyz[i, 2] = coordinates[star_tour[0][0]-1, 2]\n",
        "    plt.plot(xyz[:,0], xyz[:,1], xyz[:,2], marker = 's', alpha = 1, markersize = 7, color = 'black')\n",
        "    plt.plot(xyz[0,0], xyz[0,1], xyz[0,2], marker = 's', alpha = 1, markersize = 7, color = 'red')\n",
        "    plt.plot(xyz[1,0], xyz[1,1], xyz[1,2], marker = 's', alpha = 1, markersize = 7, color = 'orange')\n",
        "    plt.show()\n",
        "    return\n",
        "\n",
        "# Function: Rank Cities by Distance\n",
        "def ranking(Xdata, star = 0):\n",
        "    rank = np.zeros((Xdata.shape[0], 2)) # ['Distance', 'star']\n",
        "    for i in range(0, rank.shape[0]):\n",
        "        rank[i,0] = Xdata[i,star]\n",
        "        rank[i,1] = i + 1\n",
        "    rank = rank[rank[:,0].argsort()]\n",
        "    return rank\n",
        "\n",
        "# Function: RCL\n",
        "def restricted_candidate_list(Xdata, greediness_value = 0.5):\n",
        "    seed = [[],float(\"inf\")]\n",
        "    sequence = random.sample(list(range(2,Xdata.shape[0]+1)), Xdata.shape[0]-1)\n",
        "    sequence.insert(0,1)\n",
        "    count = 1\n",
        "    for i in range(1, Xdata.shape[0]):\n",
        "        count = 1\n",
        "        rand = int.from_bytes(os.urandom(8), byteorder = \"big\") / ((1 << 64) - 1)\n",
        "        if (rand > greediness_value and len(sequence) < Xdata.shape[0]):\n",
        "            next_star = int(ranking(Xdata, star = sequence[-1] - 1)[count,1])\n",
        "            while next_star in sequence:\n",
        "                count = np.clip(count+1,1,Xdata.shape[0]-1)\n",
        "                next_star = int(ranking(Xdata, star = sequence[-1] - 1)[count,1])\n",
        "            sequence.append(next_star)\n",
        "        elif (rand <= greediness_value and len(sequence) < Xdata.shape[0]):\n",
        "            next_star = random.sample(list(range(1,Xdata.shape[0]+1)), 1)[0]\n",
        "            while next_star in sequence:\n",
        "                next_star = int(random.sample(list(range(1,Xdata.shape[0]+1)), 1)[0])\n",
        "            sequence.append(next_star)\n",
        "    sequence.append(1)\n",
        "    seed[0] = sequence\n",
        "    seed[1] = distance_calc(Xdata, seed)\n",
        "    return seed\n",
        "\n",
        "# Function: 2_opt\n",
        "def local_search_2_opt(Xdata, star_tour):\n",
        "    tour = copy.deepcopy(star_tour)\n",
        "    best_route = copy.deepcopy(tour)\n",
        "    seed = copy.deepcopy(tour)  \n",
        "    for i in range(0, len(tour[0]) - 2):\n",
        "        for j in range(i+1, len(tour[0]) - 1):\n",
        "            best_route[0][i:j+1] = list(reversed(best_route[0][i:j+1]))           \n",
        "            best_route[0][-1]  = best_route[0][0]                          \n",
        "            best_route[1] = distance_calc(Xdata, best_route)           \n",
        "            if (best_route[1] < tour[1]):\n",
        "                tour[1] = copy.deepcopy(best_route[1])\n",
        "                for n in range(0, len(tour[0])): \n",
        "                    tour[0][n] = best_route[0][n]          \n",
        "            best_route = copy.deepcopy(seed) \n",
        "    return tour\n",
        "\n",
        "def greedy_randomized_adaptive_search_procedure(Xdata, star_tour, iterations = 50, rcl = 25, greediness_value = 0.5):\n",
        "    count = 0\n",
        "    best_solution = copy.deepcopy(star_tour)\n",
        "    while (count < iterations):\n",
        "        rcl_list = []\n",
        "        for i in range(0, rcl):\n",
        "            rcl_list.append(restricted_candidate_list(Xdata, greediness_value = greediness_value))\n",
        "        candidate = int(random.sample(list(range(0,rcl)), 1)[0])\n",
        "        star_tour = local_search_2_opt(Xdata, star_tour = rcl_list[candidate])\n",
        "        while (star_tour[0] != rcl_list[candidate][0]):\n",
        "            rcl_list[candidate] = copy.deepcopy(star_tour)\n",
        "            star_tour = local_search_2_opt(Xdata, star_tour = rcl_list[candidate])\n",
        "        if (star_tour[1] < best_solution[1]):\n",
        "            best_solution = copy.deepcopy(star_tour) \n",
        "        count = count + 1\n",
        "        print(\"Iteration =\", count, \"-> Distance =\", best_solution[1])\n",
        "    print(\"Best Solution =\", best_solution)\n",
        "    return best_solution"
      ],
      "metadata": {
        "id": "GEY7PU1cmG5w"
      },
      "execution_count": null,
      "outputs": []
    },
    {
      "cell_type": "markdown",
      "source": [
        "## Resultados"
      ],
      "metadata": {
        "id": "F1qGpR4Zes2v"
      }
    },
    {
      "cell_type": "markdown",
      "source": [
        "### Algoritmo guloso\n",
        "\n",
        "Este algoritmo produz apenas uma saída. A rota encontrada possui distancia total de 2056,20."
      ],
      "metadata": {
        "id": "fRdp9VlKWMTH"
      }
    },
    {
      "cell_type": "code",
      "source": [
        "greedy_df = stars_df.copy()\n",
        "distance, tuor = tsp_greedy(greedy_df)\n",
        "print(f\"Distância: {distance}\")\n",
        "print(f\"Caminho: {tuor}\")"
      ],
      "metadata": {
        "colab": {
          "base_uri": "https://localhost:8080/"
        },
        "id": "ItqAmMgvWOgG",
        "outputId": "dcf6a67f-fd48-4515-b596-ed2df9798c5b"
      },
      "execution_count": null,
      "outputs": [
        {
          "output_type": "stream",
          "name": "stdout",
          "text": [
            "Distância: 2056.203289334893\n",
            "Caminho: [0, 3, 1, 2, 4, 7, 23, 41, 16, 9, 28, 40, 38, 35, 66, 75, 91, 86, 46, 64, 44, 77, 82, 69, 63, 55, 45, 31, 27, 20, 59, 74, 76, 68, 56, 12, 11, 24, 17, 43, 84, 70, 52, 51, 81, 60, 78, 39, 37, 5, 10, 34, 48, 50, 85, 79, 80, 65, 62, 36, 25, 29, 67, 89, 33, 53, 49, 94, 92, 88, 15, 21, 26, 6, 22, 8, 19, 18, 30, 99, 95, 98, 42, 54, 57, 72, 61, 73, 87, 97, 13, 14, 32, 58, 93, 83, 71, 96, 90, 47]\n"
          ]
        }
      ]
    },
    {
      "cell_type": "markdown",
      "source": [
        "### Algoritmo genético\n",
        "\n",
        "O resultado desse algoritmo depende muito dos parâmetros fornecidos. Foram realizados 4 testes utilizando esse algoritmo, e os gráficos de distância por geração podem ser observados [neste arquivo](https://docs.google.com/document/d/1fs465ihFLieTey5VyBW7GScAJwXHda-ojaokzPuqXCw/edit?usp=sharing).\n",
        "\n",
        "Os resultados desse algoritmo não foram superiores ao algoritmo guloso. O algoritmo acaba travando em soluções ótimas locais, e o melhor resultado gerou uma rota com distância de cerca de 3500.\n",
        "\n",
        "Este resultado pode ser aprimorado aumentado a aleatoriedade dos filhos (aumentando a taxa de mutação), aumentando o número de gerações ou utilizando outros métodos juntamente ao algoritmo genético, como o 2-opt (método de procura local para encontrar rotas com menores distâncias) em certas gerações.\n"
      ],
      "metadata": {
        "id": "kvyEIuPpWPoG"
      }
    },
    {
      "cell_type": "code",
      "source": [
        "genetic_df = stars_df.copy()\n",
        "distance, tuor = genetic_tsp(stars_df = genetic_df)\n",
        "print(f\"Menor distância encontrada: {distance}\")\n",
        "print(f\"Melhor caminho encontrada: {tuor}\")"
      ],
      "metadata": {
        "id": "P0xkX2ArWSW-",
        "colab": {
          "base_uri": "https://localhost:8080/",
          "height": 217
        },
        "outputId": "b60750e3-31c3-46ec-ffff-744ce2c1d59f"
      },
      "execution_count": null,
      "outputs": [
        {
          "output_type": "error",
          "ename": "NameError",
          "evalue": "ignored",
          "traceback": [
            "\u001b[0;31m---------------------------------------------------------------------------\u001b[0m",
            "\u001b[0;31mNameError\u001b[0m                                 Traceback (most recent call last)",
            "\u001b[0;32m<ipython-input-59-de81f804589e>\u001b[0m in \u001b[0;36m<module>\u001b[0;34m\u001b[0m\n\u001b[1;32m      1\u001b[0m \u001b[0mgenetic_df\u001b[0m \u001b[0;34m=\u001b[0m \u001b[0mstars_df\u001b[0m\u001b[0;34m.\u001b[0m\u001b[0mcopy\u001b[0m\u001b[0;34m(\u001b[0m\u001b[0;34m)\u001b[0m\u001b[0;34m\u001b[0m\u001b[0;34m\u001b[0m\u001b[0m\n\u001b[0;32m----> 2\u001b[0;31m \u001b[0mdistance\u001b[0m\u001b[0;34m,\u001b[0m \u001b[0mtuor\u001b[0m \u001b[0;34m=\u001b[0m \u001b[0mgenetic_tsp\u001b[0m\u001b[0;34m(\u001b[0m\u001b[0mstars_df\u001b[0m \u001b[0;34m=\u001b[0m \u001b[0mgenetic_df\u001b[0m\u001b[0;34m)\u001b[0m\u001b[0;34m\u001b[0m\u001b[0;34m\u001b[0m\u001b[0m\n\u001b[0m\u001b[1;32m      3\u001b[0m \u001b[0mprint\u001b[0m\u001b[0;34m(\u001b[0m\u001b[0;34mf\"Menor distância encontrada: {distance}\"\u001b[0m\u001b[0;34m)\u001b[0m\u001b[0;34m\u001b[0m\u001b[0;34m\u001b[0m\u001b[0m\n\u001b[1;32m      4\u001b[0m \u001b[0mprint\u001b[0m\u001b[0;34m(\u001b[0m\u001b[0;34mf\"Melhor caminho encontrada: {tuor}\"\u001b[0m\u001b[0;34m)\u001b[0m\u001b[0;34m\u001b[0m\u001b[0;34m\u001b[0m\u001b[0m\n",
            "\u001b[0;31mNameError\u001b[0m: name 'genetic_tsp' is not defined"
          ]
        }
      ]
    },
    {
      "cell_type": "markdown",
      "source": [
        "### Algoritmo GRASP (Greedy Randomized Adaptive Search Procedure)\n",
        "\n",
        "O resultado do GRASP estabilizou por volta de 10 iterações, com uma distância de 1824.\n"
      ],
      "metadata": {
        "id": "_u1BF1Y2poVZ"
      }
    },
    {
      "cell_type": "code",
      "source": [
        "grasp_df = stars_df.copy()\n",
        "Y = grasp_df.values\n",
        "\n",
        "# Build the Distance Matrix\n",
        "X = build_distance_matrix(Y)\n",
        "\n",
        "# Start a Random Seed\n",
        "seed = seed_function(X)\n",
        "\n",
        "# Call the Function\n",
        "lsgrasp = greedy_randomized_adaptive_search_procedure(X, star_tour = seed, iterations=15)\n",
        "\n",
        "# Plot Solution. Red Point = Initial star; Orange Point = Second star\n",
        "plot_tour_coordinates(Y, lsgrasp)"
      ],
      "metadata": {
        "id": "d79HwQkrpoVb",
        "colab": {
          "base_uri": "https://localhost:8080/",
          "height": 484
        },
        "outputId": "cf4bce20-128f-4b31-f915-e361fbbe3cca"
      },
      "execution_count": null,
      "outputs": [
        {
          "output_type": "stream",
          "name": "stdout",
          "text": [
            "Iteration = 1 -> Distance = 1957.3367688992857\n",
            "Iteration = 2 -> Distance = 1921.3704037496927\n",
            "Iteration = 3 -> Distance = 1886.2326830722711\n",
            "Iteration = 4 -> Distance = 1877.7490687116715\n",
            "Iteration = 5 -> Distance = 1877.7490687116715\n",
            "Iteration = 6 -> Distance = 1877.7490687116715\n"
          ]
        },
        {
          "output_type": "error",
          "ename": "KeyboardInterrupt",
          "evalue": "ignored",
          "traceback": [
            "\u001b[0;31m---------------------------------------------------------------------------\u001b[0m",
            "\u001b[0;31mKeyboardInterrupt\u001b[0m                         Traceback (most recent call last)",
            "\u001b[0;32m<ipython-input-60-ffacfbfe8212>\u001b[0m in \u001b[0;36m<module>\u001b[0;34m\u001b[0m\n\u001b[1;32m      9\u001b[0m \u001b[0;34m\u001b[0m\u001b[0m\n\u001b[1;32m     10\u001b[0m \u001b[0;31m# Call the Function\u001b[0m\u001b[0;34m\u001b[0m\u001b[0;34m\u001b[0m\u001b[0;34m\u001b[0m\u001b[0m\n\u001b[0;32m---> 11\u001b[0;31m \u001b[0mlsgrasp\u001b[0m \u001b[0;34m=\u001b[0m \u001b[0mgreedy_randomized_adaptive_search_procedure\u001b[0m\u001b[0;34m(\u001b[0m\u001b[0mX\u001b[0m\u001b[0;34m,\u001b[0m \u001b[0mstar_tour\u001b[0m \u001b[0;34m=\u001b[0m \u001b[0mseed\u001b[0m\u001b[0;34m,\u001b[0m \u001b[0miterations\u001b[0m\u001b[0;34m=\u001b[0m\u001b[0;36m15\u001b[0m\u001b[0;34m)\u001b[0m\u001b[0;34m\u001b[0m\u001b[0;34m\u001b[0m\u001b[0m\n\u001b[0m\u001b[1;32m     12\u001b[0m \u001b[0;34m\u001b[0m\u001b[0m\n\u001b[1;32m     13\u001b[0m \u001b[0;31m# Plot Solution. Red Point = Initial star; Orange Point = Second star\u001b[0m\u001b[0;34m\u001b[0m\u001b[0;34m\u001b[0m\u001b[0;34m\u001b[0m\u001b[0m\n",
            "\u001b[0;32m<ipython-input-58-63038d4648e9>\u001b[0m in \u001b[0;36mgreedy_randomized_adaptive_search_procedure\u001b[0;34m(Xdata, star_tour, iterations, rcl, greediness_value)\u001b[0m\n\u001b[1;32m    136\u001b[0m         \u001b[0;32mwhile\u001b[0m \u001b[0;34m(\u001b[0m\u001b[0mstar_tour\u001b[0m\u001b[0;34m[\u001b[0m\u001b[0;36m0\u001b[0m\u001b[0;34m]\u001b[0m \u001b[0;34m!=\u001b[0m \u001b[0mrcl_list\u001b[0m\u001b[0;34m[\u001b[0m\u001b[0mcandidate\u001b[0m\u001b[0;34m]\u001b[0m\u001b[0;34m[\u001b[0m\u001b[0;36m0\u001b[0m\u001b[0;34m]\u001b[0m\u001b[0;34m)\u001b[0m\u001b[0;34m:\u001b[0m\u001b[0;34m\u001b[0m\u001b[0;34m\u001b[0m\u001b[0m\n\u001b[1;32m    137\u001b[0m             \u001b[0mrcl_list\u001b[0m\u001b[0;34m[\u001b[0m\u001b[0mcandidate\u001b[0m\u001b[0;34m]\u001b[0m \u001b[0;34m=\u001b[0m \u001b[0mcopy\u001b[0m\u001b[0;34m.\u001b[0m\u001b[0mdeepcopy\u001b[0m\u001b[0;34m(\u001b[0m\u001b[0mstar_tour\u001b[0m\u001b[0;34m)\u001b[0m\u001b[0;34m\u001b[0m\u001b[0;34m\u001b[0m\u001b[0m\n\u001b[0;32m--> 138\u001b[0;31m             \u001b[0mstar_tour\u001b[0m \u001b[0;34m=\u001b[0m \u001b[0mlocal_search_2_opt\u001b[0m\u001b[0;34m(\u001b[0m\u001b[0mXdata\u001b[0m\u001b[0;34m,\u001b[0m \u001b[0mstar_tour\u001b[0m \u001b[0;34m=\u001b[0m \u001b[0mrcl_list\u001b[0m\u001b[0;34m[\u001b[0m\u001b[0mcandidate\u001b[0m\u001b[0;34m]\u001b[0m\u001b[0;34m)\u001b[0m\u001b[0;34m\u001b[0m\u001b[0;34m\u001b[0m\u001b[0m\n\u001b[0m\u001b[1;32m    139\u001b[0m         \u001b[0;32mif\u001b[0m \u001b[0;34m(\u001b[0m\u001b[0mstar_tour\u001b[0m\u001b[0;34m[\u001b[0m\u001b[0;36m1\u001b[0m\u001b[0;34m]\u001b[0m \u001b[0;34m<\u001b[0m \u001b[0mbest_solution\u001b[0m\u001b[0;34m[\u001b[0m\u001b[0;36m1\u001b[0m\u001b[0;34m]\u001b[0m\u001b[0;34m)\u001b[0m\u001b[0;34m:\u001b[0m\u001b[0;34m\u001b[0m\u001b[0;34m\u001b[0m\u001b[0m\n\u001b[1;32m    140\u001b[0m             \u001b[0mbest_solution\u001b[0m \u001b[0;34m=\u001b[0m \u001b[0mcopy\u001b[0m\u001b[0;34m.\u001b[0m\u001b[0mdeepcopy\u001b[0m\u001b[0;34m(\u001b[0m\u001b[0mstar_tour\u001b[0m\u001b[0;34m)\u001b[0m\u001b[0;34m\u001b[0m\u001b[0;34m\u001b[0m\u001b[0m\n",
            "\u001b[0;32m<ipython-input-58-63038d4648e9>\u001b[0m in \u001b[0;36mlocal_search_2_opt\u001b[0;34m(Xdata, star_tour)\u001b[0m\n\u001b[1;32m    117\u001b[0m             \u001b[0mbest_route\u001b[0m\u001b[0;34m[\u001b[0m\u001b[0;36m0\u001b[0m\u001b[0;34m]\u001b[0m\u001b[0;34m[\u001b[0m\u001b[0mi\u001b[0m\u001b[0;34m:\u001b[0m\u001b[0mj\u001b[0m\u001b[0;34m+\u001b[0m\u001b[0;36m1\u001b[0m\u001b[0;34m]\u001b[0m \u001b[0;34m=\u001b[0m \u001b[0mlist\u001b[0m\u001b[0;34m(\u001b[0m\u001b[0mreversed\u001b[0m\u001b[0;34m(\u001b[0m\u001b[0mbest_route\u001b[0m\u001b[0;34m[\u001b[0m\u001b[0;36m0\u001b[0m\u001b[0;34m]\u001b[0m\u001b[0;34m[\u001b[0m\u001b[0mi\u001b[0m\u001b[0;34m:\u001b[0m\u001b[0mj\u001b[0m\u001b[0;34m+\u001b[0m\u001b[0;36m1\u001b[0m\u001b[0;34m]\u001b[0m\u001b[0;34m)\u001b[0m\u001b[0;34m)\u001b[0m\u001b[0;34m\u001b[0m\u001b[0;34m\u001b[0m\u001b[0m\n\u001b[1;32m    118\u001b[0m             \u001b[0mbest_route\u001b[0m\u001b[0;34m[\u001b[0m\u001b[0;36m0\u001b[0m\u001b[0;34m]\u001b[0m\u001b[0;34m[\u001b[0m\u001b[0;34m-\u001b[0m\u001b[0;36m1\u001b[0m\u001b[0;34m]\u001b[0m  \u001b[0;34m=\u001b[0m \u001b[0mbest_route\u001b[0m\u001b[0;34m[\u001b[0m\u001b[0;36m0\u001b[0m\u001b[0;34m]\u001b[0m\u001b[0;34m[\u001b[0m\u001b[0;36m0\u001b[0m\u001b[0;34m]\u001b[0m\u001b[0;34m\u001b[0m\u001b[0;34m\u001b[0m\u001b[0m\n\u001b[0;32m--> 119\u001b[0;31m             \u001b[0mbest_route\u001b[0m\u001b[0;34m[\u001b[0m\u001b[0;36m1\u001b[0m\u001b[0;34m]\u001b[0m \u001b[0;34m=\u001b[0m \u001b[0mdistance_calc\u001b[0m\u001b[0;34m(\u001b[0m\u001b[0mXdata\u001b[0m\u001b[0;34m,\u001b[0m \u001b[0mbest_route\u001b[0m\u001b[0;34m)\u001b[0m\u001b[0;34m\u001b[0m\u001b[0;34m\u001b[0m\u001b[0m\n\u001b[0m\u001b[1;32m    120\u001b[0m             \u001b[0;32mif\u001b[0m \u001b[0;34m(\u001b[0m\u001b[0mbest_route\u001b[0m\u001b[0;34m[\u001b[0m\u001b[0;36m1\u001b[0m\u001b[0;34m]\u001b[0m \u001b[0;34m<\u001b[0m \u001b[0mtour\u001b[0m\u001b[0;34m[\u001b[0m\u001b[0;36m1\u001b[0m\u001b[0;34m]\u001b[0m\u001b[0;34m)\u001b[0m\u001b[0;34m:\u001b[0m\u001b[0;34m\u001b[0m\u001b[0;34m\u001b[0m\u001b[0m\n\u001b[1;32m    121\u001b[0m                 \u001b[0mtour\u001b[0m\u001b[0;34m[\u001b[0m\u001b[0;36m1\u001b[0m\u001b[0;34m]\u001b[0m \u001b[0;34m=\u001b[0m \u001b[0mcopy\u001b[0m\u001b[0;34m.\u001b[0m\u001b[0mdeepcopy\u001b[0m\u001b[0;34m(\u001b[0m\u001b[0mbest_route\u001b[0m\u001b[0;34m[\u001b[0m\u001b[0;36m1\u001b[0m\u001b[0;34m]\u001b[0m\u001b[0;34m)\u001b[0m\u001b[0;34m\u001b[0m\u001b[0;34m\u001b[0m\u001b[0m\n",
            "\u001b[0;32m<ipython-input-58-63038d4648e9>\u001b[0m in \u001b[0;36mdistance_calc\u001b[0;34m(Xdata, star_tour)\u001b[0m\n\u001b[1;32m      3\u001b[0m     \u001b[0mdistance\u001b[0m \u001b[0;34m=\u001b[0m \u001b[0;36m0\u001b[0m\u001b[0;34m\u001b[0m\u001b[0;34m\u001b[0m\u001b[0m\n\u001b[1;32m      4\u001b[0m     \u001b[0;32mfor\u001b[0m \u001b[0mk\u001b[0m \u001b[0;32min\u001b[0m \u001b[0mrange\u001b[0m\u001b[0;34m(\u001b[0m\u001b[0;36m0\u001b[0m\u001b[0;34m,\u001b[0m \u001b[0mlen\u001b[0m\u001b[0;34m(\u001b[0m\u001b[0mstar_tour\u001b[0m\u001b[0;34m[\u001b[0m\u001b[0;36m0\u001b[0m\u001b[0;34m]\u001b[0m\u001b[0;34m)\u001b[0m\u001b[0;34m-\u001b[0m\u001b[0;36m1\u001b[0m\u001b[0;34m)\u001b[0m\u001b[0;34m:\u001b[0m\u001b[0;34m\u001b[0m\u001b[0;34m\u001b[0m\u001b[0m\n\u001b[0;32m----> 5\u001b[0;31m         \u001b[0mdistance\u001b[0m \u001b[0;34m+=\u001b[0m \u001b[0mXdata\u001b[0m\u001b[0;34m[\u001b[0m\u001b[0mstar_tour\u001b[0m\u001b[0;34m[\u001b[0m\u001b[0;36m0\u001b[0m\u001b[0;34m]\u001b[0m\u001b[0;34m[\u001b[0m\u001b[0mk\u001b[0m\u001b[0;34m]\u001b[0m\u001b[0;34m-\u001b[0m\u001b[0;36m1\u001b[0m\u001b[0;34m,\u001b[0m \u001b[0mstar_tour\u001b[0m\u001b[0;34m[\u001b[0m\u001b[0;36m0\u001b[0m\u001b[0;34m]\u001b[0m\u001b[0;34m[\u001b[0m\u001b[0mk\u001b[0m\u001b[0;34m+\u001b[0m\u001b[0;36m1\u001b[0m\u001b[0;34m]\u001b[0m\u001b[0;34m-\u001b[0m\u001b[0;36m1\u001b[0m\u001b[0;34m]\u001b[0m\u001b[0;34m\u001b[0m\u001b[0;34m\u001b[0m\u001b[0m\n\u001b[0m\u001b[1;32m      6\u001b[0m     \u001b[0;32mreturn\u001b[0m \u001b[0mdistance\u001b[0m\u001b[0;34m\u001b[0m\u001b[0;34m\u001b[0m\u001b[0m\n\u001b[1;32m      7\u001b[0m \u001b[0;34m\u001b[0m\u001b[0m\n",
            "\u001b[0;31mKeyboardInterrupt\u001b[0m: "
          ]
        }
      ]
    }
  ]
}